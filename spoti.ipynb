{
 "cells": [
  {
   "cell_type": "code",
   "execution_count": 1,
   "id": "f02ab94a",
   "metadata": {
    "_cell_guid": "b1076dfc-b9ad-4769-8c92-a6c4dae69d19",
    "_uuid": "8f2839f25d086af736a60e9eeb907d3b93b6e0e5",
    "execution": {
     "iopub.execute_input": "2025-05-24T16:54:53.618482Z",
     "iopub.status.busy": "2025-05-24T16:54:53.618068Z",
     "iopub.status.idle": "2025-05-24T16:54:55.456124Z",
     "shell.execute_reply": "2025-05-24T16:54:55.454981Z"
    },
    "papermill": {
     "duration": 1.844416,
     "end_time": "2025-05-24T16:54:55.457888",
     "exception": false,
     "start_time": "2025-05-24T16:54:53.613472",
     "status": "completed"
    },
    "tags": []
   },
   "outputs": [
    {
     "name": "stdout",
     "output_type": "stream",
     "text": [
      "/kaggle/input/cmc-ml-spotify-tracks-popularity-prediction-2025/sample_submission.csv\n",
      "/kaggle/input/cmc-ml-spotify-tracks-popularity-prediction-2025/simple_pipeline.ipynb\n",
      "/kaggle/input/cmc-ml-spotify-tracks-popularity-prediction-2025/train.csv\n",
      "/kaggle/input/cmc-ml-spotify-tracks-popularity-prediction-2025/test.csv\n"
     ]
    }
   ],
   "source": [
    "# This Python 3 environment comes with many helpful analytics libraries installed\n",
    "# It is defined by the kaggle/python Docker image: https://github.com/kaggle/docker-python\n",
    "# For example, here's several helpful packages to load\n",
    "\n",
    "import numpy as np # linear algebra\n",
    "import pandas as pd # data processing, CSV file I/O (e.g. pd.read_csv)\n",
    "\n",
    "# Input data files are available in the read-only \"../input/\" directory\n",
    "# For example, running this (by clicking run or pressing Shift+Enter) will list all files under the input directory\n",
    "\n",
    "import os\n",
    "for dirname, _, filenames in os.walk('/kaggle/input'):\n",
    "    for filename in filenames:\n",
    "        print(os.path.join(dirname, filename))\n",
    "\n",
    "# You can write up to 20GB to the current directory (/kaggle/working/) that gets preserved as output when you create a version using \"Save & Run All\"\n",
    "# You can also write temporary files to /kaggle/temp/, but they won't be saved outside of the current session"
   ]
  },
  {
   "cell_type": "code",
   "execution_count": 2,
   "id": "015190d7",
   "metadata": {
    "execution": {
     "iopub.execute_input": "2025-05-24T16:54:55.466278Z",
     "iopub.status.busy": "2025-05-24T16:54:55.465802Z",
     "iopub.status.idle": "2025-05-24T16:54:57.093007Z",
     "shell.execute_reply": "2025-05-24T16:54:57.092201Z"
    },
    "papermill": {
     "duration": 1.632879,
     "end_time": "2025-05-24T16:54:57.094644",
     "exception": false,
     "start_time": "2025-05-24T16:54:55.461765",
     "status": "completed"
    },
    "tags": []
   },
   "outputs": [],
   "source": [
    "import pandas as pd\n",
    "from sklearn.metrics import mean_squared_error\n",
    "from scipy.stats import entropy\n",
    "from sklearn.model_selection import KFold"
   ]
  },
  {
   "cell_type": "code",
   "execution_count": 3,
   "id": "a34aa6ec",
   "metadata": {
    "execution": {
     "iopub.execute_input": "2025-05-24T16:54:57.102220Z",
     "iopub.status.busy": "2025-05-24T16:54:57.101303Z",
     "iopub.status.idle": "2025-05-24T16:54:57.674118Z",
     "shell.execute_reply": "2025-05-24T16:54:57.673227Z"
    },
    "papermill": {
     "duration": 0.578239,
     "end_time": "2025-05-24T16:54:57.675770",
     "exception": false,
     "start_time": "2025-05-24T16:54:57.097531",
     "status": "completed"
    },
    "tags": []
   },
   "outputs": [
    {
     "data": {
      "text/html": [
       "<div>\n",
       "<style scoped>\n",
       "    .dataframe tbody tr th:only-of-type {\n",
       "        vertical-align: middle;\n",
       "    }\n",
       "\n",
       "    .dataframe tbody tr th {\n",
       "        vertical-align: top;\n",
       "    }\n",
       "\n",
       "    .dataframe thead th {\n",
       "        text-align: right;\n",
       "    }\n",
       "</style>\n",
       "<table border=\"1\" class=\"dataframe\">\n",
       "  <thead>\n",
       "    <tr style=\"text-align: right;\">\n",
       "      <th></th>\n",
       "      <th>index</th>\n",
       "      <th>composer</th>\n",
       "      <th>album</th>\n",
       "      <th>danceability</th>\n",
       "      <th>energy</th>\n",
       "      <th>key</th>\n",
       "      <th>loudness</th>\n",
       "      <th>mode</th>\n",
       "      <th>speechiness</th>\n",
       "      <th>acousticness</th>\n",
       "      <th>instrumentalness</th>\n",
       "      <th>liveness</th>\n",
       "      <th>valence</th>\n",
       "      <th>tempo</th>\n",
       "      <th>duration_ms</th>\n",
       "      <th>time_signature</th>\n",
       "      <th>popularity</th>\n",
       "    </tr>\n",
       "  </thead>\n",
       "  <tbody>\n",
       "    <tr>\n",
       "      <th>0</th>\n",
       "      <td>113287</td>\n",
       "      <td>14</td>\n",
       "      <td>1412</td>\n",
       "      <td>2967.280</td>\n",
       "      <td>0.045235</td>\n",
       "      <td>1</td>\n",
       "      <td>-38.440550</td>\n",
       "      <td>1</td>\n",
       "      <td>0.036275</td>\n",
       "      <td>-0.223432</td>\n",
       "      <td>0.706</td>\n",
       "      <td>474.7080</td>\n",
       "      <td>0.093009</td>\n",
       "      <td>95.49426</td>\n",
       "      <td>1113008.40</td>\n",
       "      <td>4</td>\n",
       "      <td>2</td>\n",
       "    </tr>\n",
       "    <tr>\n",
       "      <th>1</th>\n",
       "      <td>49396</td>\n",
       "      <td>7</td>\n",
       "      <td>9772</td>\n",
       "      <td>5596.904</td>\n",
       "      <td>0.071796</td>\n",
       "      <td>9</td>\n",
       "      <td>-43.769375</td>\n",
       "      <td>1</td>\n",
       "      <td>0.050086</td>\n",
       "      <td>-0.212998</td>\n",
       "      <td>0.777</td>\n",
       "      <td>511.9400</td>\n",
       "      <td>0.609760</td>\n",
       "      <td>114.64017</td>\n",
       "      <td>116020.83</td>\n",
       "      <td>3</td>\n",
       "      <td>2</td>\n",
       "    </tr>\n",
       "    <tr>\n",
       "      <th>2</th>\n",
       "      <td>122241</td>\n",
       "      <td>16</td>\n",
       "      <td>10251</td>\n",
       "      <td>3345.864</td>\n",
       "      <td>0.109368</td>\n",
       "      <td>4</td>\n",
       "      <td>-42.194985</td>\n",
       "      <td>0</td>\n",
       "      <td>0.037856</td>\n",
       "      <td>-0.212332</td>\n",
       "      <td>0.925</td>\n",
       "      <td>497.9780</td>\n",
       "      <td>0.112270</td>\n",
       "      <td>101.37465</td>\n",
       "      <td>348964.32</td>\n",
       "      <td>3</td>\n",
       "      <td>0</td>\n",
       "    </tr>\n",
       "    <tr>\n",
       "      <th>3</th>\n",
       "      <td>123302</td>\n",
       "      <td>16</td>\n",
       "      <td>9342</td>\n",
       "      <td>2486.376</td>\n",
       "      <td>0.056395</td>\n",
       "      <td>9</td>\n",
       "      <td>-33.632870</td>\n",
       "      <td>0</td>\n",
       "      <td>0.032282</td>\n",
       "      <td>-0.212554</td>\n",
       "      <td>0.906</td>\n",
       "      <td>334.1572</td>\n",
       "      <td>0.079207</td>\n",
       "      <td>128.98356</td>\n",
       "      <td>382820.43</td>\n",
       "      <td>4</td>\n",
       "      <td>0</td>\n",
       "    </tr>\n",
       "    <tr>\n",
       "      <th>4</th>\n",
       "      <td>72027</td>\n",
       "      <td>9</td>\n",
       "      <td>4646</td>\n",
       "      <td>6169.896</td>\n",
       "      <td>0.086304</td>\n",
       "      <td>2</td>\n",
       "      <td>-33.402815</td>\n",
       "      <td>1</td>\n",
       "      <td>0.034611</td>\n",
       "      <td>-0.235420</td>\n",
       "      <td>0.932</td>\n",
       "      <td>465.4000</td>\n",
       "      <td>0.386250</td>\n",
       "      <td>106.71843</td>\n",
       "      <td>221056.80</td>\n",
       "      <td>3</td>\n",
       "      <td>11</td>\n",
       "    </tr>\n",
       "  </tbody>\n",
       "</table>\n",
       "</div>"
      ],
      "text/plain": [
       "    index  composer  album  danceability    energy  key   loudness  mode  \\\n",
       "0  113287        14   1412      2967.280  0.045235    1 -38.440550     1   \n",
       "1   49396         7   9772      5596.904  0.071796    9 -43.769375     1   \n",
       "2  122241        16  10251      3345.864  0.109368    4 -42.194985     0   \n",
       "3  123302        16   9342      2486.376  0.056395    9 -33.632870     0   \n",
       "4   72027         9   4646      6169.896  0.086304    2 -33.402815     1   \n",
       "\n",
       "   speechiness  acousticness  instrumentalness  liveness   valence      tempo  \\\n",
       "0     0.036275     -0.223432             0.706  474.7080  0.093009   95.49426   \n",
       "1     0.050086     -0.212998             0.777  511.9400  0.609760  114.64017   \n",
       "2     0.037856     -0.212332             0.925  497.9780  0.112270  101.37465   \n",
       "3     0.032282     -0.212554             0.906  334.1572  0.079207  128.98356   \n",
       "4     0.034611     -0.235420             0.932  465.4000  0.386250  106.71843   \n",
       "\n",
       "   duration_ms  time_signature  popularity  \n",
       "0   1113008.40               4           2  \n",
       "1    116020.83               3           2  \n",
       "2    348964.32               3           0  \n",
       "3    382820.43               4           0  \n",
       "4    221056.80               3          11  "
      ]
     },
     "execution_count": 3,
     "metadata": {},
     "output_type": "execute_result"
    }
   ],
   "source": [
    "# Используйте эти пути для запуска ноутбука на Kaggle\n",
    "PATH_TO_KAGGLE_TRAIN = \"/kaggle/input/cmc-ml-spotify-tracks-popularity-prediction-2025/train.csv\"\n",
    "PATH_TO_KAGGLE_TEST = \"/kaggle/input/cmc-ml-spotify-tracks-popularity-prediction-2025/test.csv\"\n",
    "PATH_TO_KAGGLE_SUBMISSION = \"/kaggle/working/submission.csv\"\n",
    "\n",
    "train = pd.read_csv(PATH_TO_KAGGLE_TRAIN)\n",
    "test = pd.read_csv(PATH_TO_KAGGLE_TEST)\n",
    "\n",
    "\n",
    "X_train = train.drop([\"index\", \"popularity\"], axis=1)\n",
    "X_test = test.drop([\"index\"], axis=1)\n",
    "y_train = train[\"popularity\"]\n",
    "\n",
    "train.head()"
   ]
  },
  {
   "cell_type": "code",
   "execution_count": 4,
   "id": "e730b200",
   "metadata": {
    "execution": {
     "iopub.execute_input": "2025-05-24T16:54:57.683678Z",
     "iopub.status.busy": "2025-05-24T16:54:57.683124Z",
     "iopub.status.idle": "2025-05-24T16:54:57.693962Z",
     "shell.execute_reply": "2025-05-24T16:54:57.693003Z"
    },
    "papermill": {
     "duration": 0.01648,
     "end_time": "2025-05-24T16:54:57.695583",
     "exception": false,
     "start_time": "2025-05-24T16:54:57.679103",
     "status": "completed"
    },
    "tags": []
   },
   "outputs": [],
   "source": [
    "def target_encode_new(train, test, cat_col, target_col, alpha=5):\n",
    "    kf = KFold(n_splits=5, shuffle=True, random_state=42)\n",
    "    train_encoded = train.copy()\n",
    "\n",
    "    # Глобальное среднее и стандартное отклонение\n",
    "    global_mean = train[target_col].mean()\n",
    "    global_std = train[target_col].std()\n",
    "    global_median = train[target_col].median()\n",
    "\n",
    "\n",
    "    # Создаём пустой DataFrame для агрегированных статистик\n",
    "    all_agg_stats = pd.DataFrame()\n",
    "\n",
    "    for train_idx, val_idx in kf.split(train):\n",
    "        X_train, X_val = train.iloc[train_idx], train.iloc[val_idx]\n",
    "\n",
    "        agg_stats = X_train.groupby(cat_col)[target_col].agg([\n",
    "            'mean', 'std', 'count', 'median', 'min', 'max',\n",
    "            lambda x: x.quantile(0.25),\n",
    "            lambda x: x.quantile(0.75),\n",
    "            lambda x: entropy(np.histogram(x, bins=10)[0])\n",
    "        ]).rename(columns={\n",
    "            '<lambda_0>': 'q1',\n",
    "            '<lambda_1>': 'q3',\n",
    "            '<lambda_2>': 'entropy'\n",
    "        })\n",
    "\n",
    "        agg_stats['prob_ratio'] = (agg_stats['mean'] / global_mean).replace(np.inf, 1.0)\n",
    "\n",
    "        agg_stats['lower_ci'] = agg_stats['mean'] - 1.96 * agg_stats['std']/np.sqrt(agg_stats['count'])\n",
    "        agg_stats['upper_ci'] = agg_stats['mean'] + 1.96 * agg_stats['std']/np.sqrt(agg_stats['count'])\n",
    "\n",
    "\n",
    "        agg_stats['smoothed_mean'] = (agg_stats['mean'] * agg_stats['count'] + global_mean * alpha) / (agg_stats['count'] + alpha)\n",
    "\n",
    "        # Заполняем пропуски в std\n",
    "        agg_stats['std'] = agg_stats['std'].fillna(global_std)\n",
    "\n",
    "        # Сохраняем статистики для всех фолдов\n",
    "        all_agg_stats = pd.concat([all_agg_stats, agg_stats])\n",
    "\n",
    "        # Добавляем статистики в валидационную часть\n",
    "        for stat in agg_stats.columns:\n",
    "            train_encoded.loc[val_idx, f'{cat_col}_{stat}'] = X_val[cat_col].map(agg_stats[stat])\n",
    "\n",
    "    # Усредняем статистики по всем фолдам\n",
    "    final_stats = all_agg_stats.groupby(level=0).mean()\n",
    "\n",
    "    # Кодируем тестовые данные\n",
    "    test_encoded = test.copy()\n",
    "    for stat in final_stats.columns:\n",
    "        test_encoded[f'{cat_col}_{stat}'] = test[cat_col].map(final_stats[stat]).fillna({\n",
    "            'mean': global_mean,\n",
    "            'std': global_std,\n",
    "            'count': 0,\n",
    "            'median': global_median,\n",
    "            'smoothed_mean': global_mean,\n",
    "            'lower_ci': global_mean,\n",
    "            'upper_ci': global_mean,\n",
    "            'q1': global_median,\n",
    "            'q3': global_median,\n",
    "            'entropy': 0,\n",
    "        })\n",
    "\n",
    "    return train_encoded, test_encoded"
   ]
  },
  {
   "cell_type": "code",
   "execution_count": 5,
   "id": "c693249f",
   "metadata": {
    "execution": {
     "iopub.execute_input": "2025-05-24T16:54:57.702957Z",
     "iopub.status.busy": "2025-05-24T16:54:57.702664Z",
     "iopub.status.idle": "2025-05-24T16:56:14.266716Z",
     "shell.execute_reply": "2025-05-24T16:56:14.265811Z"
    },
    "papermill": {
     "duration": 76.569678,
     "end_time": "2025-05-24T16:56:14.268456",
     "exception": false,
     "start_time": "2025-05-24T16:54:57.698778",
     "status": "completed"
    },
    "tags": []
   },
   "outputs": [],
   "source": [
    "train_encoded, test_encoded = target_encode_new(train, test, 'album', 'popularity')\n",
    "train_encoded, test_encoded = target_encode_new(train_encoded, test_encoded, 'composer', 'popularity')"
   ]
  },
  {
   "cell_type": "code",
   "execution_count": 6,
   "id": "d6fd927d",
   "metadata": {
    "execution": {
     "iopub.execute_input": "2025-05-24T16:56:14.276510Z",
     "iopub.status.busy": "2025-05-24T16:56:14.276207Z",
     "iopub.status.idle": "2025-05-24T16:56:14.295489Z",
     "shell.execute_reply": "2025-05-24T16:56:14.294570Z"
    },
    "papermill": {
     "duration": 0.025133,
     "end_time": "2025-05-24T16:56:14.296973",
     "exception": false,
     "start_time": "2025-05-24T16:56:14.271840",
     "status": "completed"
    },
    "tags": []
   },
   "outputs": [],
   "source": [
    "X_train = train_encoded.drop([\"index\", \"popularity\"], axis=1)\n",
    "X_test = test_encoded.drop([\"index\"], axis=1)\n",
    "y_train = train_encoded[\"popularity\"]"
   ]
  },
  {
   "cell_type": "code",
   "execution_count": 7,
   "id": "26320551",
   "metadata": {
    "execution": {
     "iopub.execute_input": "2025-05-24T16:56:14.304561Z",
     "iopub.status.busy": "2025-05-24T16:56:14.304271Z",
     "iopub.status.idle": "2025-05-24T16:56:14.572983Z",
     "shell.execute_reply": "2025-05-24T16:56:14.572306Z"
    },
    "papermill": {
     "duration": 0.274454,
     "end_time": "2025-05-24T16:56:14.574569",
     "exception": false,
     "start_time": "2025-05-24T16:56:14.300115",
     "status": "completed"
    },
    "tags": []
   },
   "outputs": [],
   "source": [
    "from xgboost import XGBRegressor\n",
    "from sklearn.model_selection import train_test_split"
   ]
  },
  {
   "cell_type": "code",
   "execution_count": 8,
   "id": "9c8bbb60",
   "metadata": {
    "execution": {
     "iopub.execute_input": "2025-05-24T16:56:14.582399Z",
     "iopub.status.busy": "2025-05-24T16:56:14.581616Z",
     "iopub.status.idle": "2025-05-24T16:56:14.608456Z",
     "shell.execute_reply": "2025-05-24T16:56:14.607591Z"
    },
    "papermill": {
     "duration": 0.032236,
     "end_time": "2025-05-24T16:56:14.610047",
     "exception": false,
     "start_time": "2025-05-24T16:56:14.577811",
     "status": "completed"
    },
    "tags": []
   },
   "outputs": [],
   "source": [
    "X_train_valid, X_test_valid, y_train_valid, y_test_valid = train_test_split(\n",
    "    X_train,  # Признаки\n",
    "    y_train,  # Целевая переменная\n",
    "    test_size=0.1,  # Доля тестовых данных\n",
    "    random_state=42,  # Фиксируем случайность для воспроизводимости\n",
    "    shuffle=True      # Перемешивание данных перед разделением\n",
    ")"
   ]
  },
  {
   "cell_type": "code",
   "execution_count": 9,
   "id": "6a904206",
   "metadata": {
    "execution": {
     "iopub.execute_input": "2025-05-24T16:56:14.617839Z",
     "iopub.status.busy": "2025-05-24T16:56:14.617508Z",
     "iopub.status.idle": "2025-05-24T16:56:14.622471Z",
     "shell.execute_reply": "2025-05-24T16:56:14.621631Z"
    },
    "papermill": {
     "duration": 0.010497,
     "end_time": "2025-05-24T16:56:14.623887",
     "exception": false,
     "start_time": "2025-05-24T16:56:14.613390",
     "status": "completed"
    },
    "tags": []
   },
   "outputs": [],
   "source": [
    "from sklearn.model_selection import KFold\n",
    "\n",
    "from sklearn.metrics import r2_score, mean_squared_error, mean_absolute_error\n",
    "\n",
    "def calculate_metrics(targets, preds):\n",
    "    metrics = {\n",
    "        'r2': r2_score(targets, preds),\n",
    "        'mse': mean_squared_error(targets, preds),\n",
    "        'rmse': mean_squared_error(targets, preds, squared=False),  # Вот правильный способ получить RMSE\n",
    "        'mae': mean_absolute_error(targets, preds)\n",
    "    }\n",
    "    return metrics"
   ]
  },
  {
   "cell_type": "code",
   "execution_count": 10,
   "id": "aed987d4",
   "metadata": {
    "execution": {
     "iopub.execute_input": "2025-05-24T16:56:14.632098Z",
     "iopub.status.busy": "2025-05-24T16:56:14.631479Z",
     "iopub.status.idle": "2025-05-24T17:03:57.939301Z",
     "shell.execute_reply": "2025-05-24T17:03:57.938475Z"
    },
    "papermill": {
     "duration": 463.318689,
     "end_time": "2025-05-24T17:03:57.945961",
     "exception": false,
     "start_time": "2025-05-24T16:56:14.627272",
     "status": "completed"
    },
    "tags": []
   },
   "outputs": [
    {
     "name": "stdout",
     "output_type": "stream",
     "text": [
      "100%|██████████| 70/70 [07:41<00:00,  6.59s/trial, best loss: 3.102757182235797]\n"
     ]
    }
   ],
   "source": [
    "from xgboost import XGBRegressor\n",
    "import xgboost as xgb\n",
    "xgb.set_config(verbosity=0)\n",
    "\n",
    "from sklearn.model_selection import cross_val_score\n",
    "from hyperopt import hp, tpe, Trials, STATUS_OK\n",
    "from hyperopt.fmin import fmin\n",
    "from hyperopt.pyll import scope\n",
    "\n",
    "trials = Trials()\n",
    "\n",
    "def quality(params):\n",
    "    regressor = XGBRegressor(objective='reg:squarederror', **params)\n",
    "    regressor.fit(X_train_valid, y_train_valid)\n",
    "    preds = regressor.predict(X_test_valid)\n",
    "    preds = np.clip(preds, 0, None)\n",
    "    metrics = calculate_metrics(y_test_valid, preds)\n",
    "    return {'loss': metrics['rmse'], 'status': STATUS_OK }\n",
    "\n",
    "grid = {\n",
    "    'n_estimators': 50 + hp.randint('n_estimators', 1450),\n",
    "    'max_depth': 2 + hp.randint('max_depth', 8),\n",
    "    'learning_rate': hp.loguniform('learning_rate', -5, -0.5),\n",
    "    'num_leaves': 3 + hp.randint('num_leaves', 30),\n",
    "    'min_child_samples': 2 + hp.randint('min_child_samples', 28),\n",
    "    'subsample': hp.uniform('subsample', 0.2, 1.),\n",
    "    'colsample_bytree': hp.uniform('colsample_bytree', 0.2, 1.),\n",
    "    'colsample_bylevel': hp.uniform('colsample_bylevel', 0.2, 1.),\n",
    "    'colsample_bynode': hp.uniform('colsample_bynode', 0.2, 1.),\n",
    "    'reg_alpha': hp.uniform('reg_alpha', 0.1, 0.6),\n",
    "    'reg_lambda': hp.uniform('reg_lambda', 0.1, 0.6),\n",
    "    # 'booster': hp.choice('booster', ['gbtree', 'gblinear']),\n",
    "    # 'tree_method': hp.choice('tree_method', ['exact', 'approx', 'hist']),\n",
    "}\n",
    "\n",
    "best_xgb_params = fmin(\n",
    "    fn=quality,\n",
    "    space=grid,\n",
    "    algo=tpe.suggest,\n",
    "    max_evals=70,\n",
    "    trials=trials,\n",
    "    verbose=1\n",
    ")"
   ]
  },
  {
   "cell_type": "code",
   "execution_count": 11,
   "id": "9f113749",
   "metadata": {
    "execution": {
     "iopub.execute_input": "2025-05-24T17:03:57.960478Z",
     "iopub.status.busy": "2025-05-24T17:03:57.959868Z",
     "iopub.status.idle": "2025-05-24T17:04:08.468342Z",
     "shell.execute_reply": "2025-05-24T17:04:08.467337Z"
    },
    "papermill": {
     "duration": 10.517642,
     "end_time": "2025-05-24T17:04:08.470080",
     "exception": false,
     "start_time": "2025-05-24T17:03:57.952438",
     "status": "completed"
    },
    "tags": []
   },
   "outputs": [
    {
     "data": {
      "text/plain": [
       "{'r2': 0.6394748717531736,\n",
       " 'mse': 9.666770534969482,\n",
       " 'rmse': 3.1091430547611476,\n",
       " 'mae': 1.3253509553376892}"
      ]
     },
     "execution_count": 11,
     "metadata": {},
     "output_type": "execute_result"
    }
   ],
   "source": [
    "xgb_regressor = XGBRegressor(objective='reg:squarederror', **best_xgb_params)\n",
    "xgb_regressor.fit(X_train_valid, y_train_valid)\n",
    "preds = xgb_regressor.predict(X_test_valid)\n",
    "preds = np.clip(preds, 0, None)\n",
    "xgb_metrics = calculate_metrics(y_test_valid, preds)\n",
    "xgb_metrics"
   ]
  },
  {
   "cell_type": "code",
   "execution_count": 12,
   "id": "c4648324",
   "metadata": {
    "execution": {
     "iopub.execute_input": "2025-05-24T17:04:08.484976Z",
     "iopub.status.busy": "2025-05-24T17:04:08.484674Z",
     "iopub.status.idle": "2025-05-24T17:04:08.489206Z",
     "shell.execute_reply": "2025-05-24T17:04:08.488330Z"
    },
    "papermill": {
     "duration": 0.01368,
     "end_time": "2025-05-24T17:04:08.490586",
     "exception": false,
     "start_time": "2025-05-24T17:04:08.476906",
     "status": "completed"
    },
    "tags": []
   },
   "outputs": [],
   "source": [
    "model = xgb_regressor"
   ]
  },
  {
   "cell_type": "code",
   "execution_count": 13,
   "id": "fe381483",
   "metadata": {
    "execution": {
     "iopub.execute_input": "2025-05-24T17:04:08.505535Z",
     "iopub.status.busy": "2025-05-24T17:04:08.504723Z",
     "iopub.status.idle": "2025-05-24T17:04:09.763003Z",
     "shell.execute_reply": "2025-05-24T17:04:09.762338Z"
    },
    "papermill": {
     "duration": 1.267528,
     "end_time": "2025-05-24T17:04:09.764792",
     "exception": false,
     "start_time": "2025-05-24T17:04:08.497264",
     "status": "completed"
    },
    "tags": []
   },
   "outputs": [],
   "source": [
    "test_pred = model.predict(X_test)\n",
    "\n",
    "submission = pd.DataFrame({\"index\": test[\"index\"],\n",
    "                           \"popularity\": test_pred})"
   ]
  },
  {
   "cell_type": "code",
   "execution_count": 14,
   "id": "39d93ecc",
   "metadata": {
    "execution": {
     "iopub.execute_input": "2025-05-24T17:04:09.780245Z",
     "iopub.status.busy": "2025-05-24T17:04:09.779920Z",
     "iopub.status.idle": "2025-05-24T17:04:09.899823Z",
     "shell.execute_reply": "2025-05-24T17:04:09.898862Z"
    },
    "papermill": {
     "duration": 0.129861,
     "end_time": "2025-05-24T17:04:09.901560",
     "exception": false,
     "start_time": "2025-05-24T17:04:09.771699",
     "status": "completed"
    },
    "tags": []
   },
   "outputs": [],
   "source": [
    "submission.to_csv(PATH_TO_KAGGLE_SUBMISSION, index=False)"
   ]
  }
 ],
 "metadata": {
  "kaggle": {
   "accelerator": "none",
   "dataSources": [
    {
     "databundleVersionId": 11340340,
     "sourceId": 95431,
     "sourceType": "competition"
    }
   ],
   "dockerImageVersionId": 31040,
   "isGpuEnabled": false,
   "isInternetEnabled": false,
   "language": "python",
   "sourceType": "notebook"
  },
  "kernelspec": {
   "display_name": "Python 3",
   "language": "python",
   "name": "python3"
  },
  "language_info": {
   "codemirror_mode": {
    "name": "ipython",
    "version": 3
   },
   "file_extension": ".py",
   "mimetype": "text/x-python",
   "name": "python",
   "nbconvert_exporter": "python",
   "pygments_lexer": "ipython3",
   "version": "3.11.11"
  },
  "papermill": {
   "default_parameters": {},
   "duration": 561.790369,
   "end_time": "2025-05-24T17:04:10.628785",
   "environment_variables": {},
   "exception": null,
   "input_path": "__notebook__.ipynb",
   "output_path": "__notebook__.ipynb",
   "parameters": {},
   "start_time": "2025-05-24T16:54:48.838416",
   "version": "2.6.0"
  }
 },
 "nbformat": 4,
 "nbformat_minor": 5
}
